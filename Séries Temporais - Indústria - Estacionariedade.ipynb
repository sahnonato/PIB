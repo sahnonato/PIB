{
 "cells": [
  {
   "cell_type": "code",
   "execution_count": 1,
   "id": "403a5a81",
   "metadata": {},
   "outputs": [],
   "source": [
    "from datetime import datetime\n",
    "\n",
    "import pandas as pd\n",
    "import seaborn as sns\n",
    "import matplotlib.pyplot as plt\n",
    "import numpy as np\n",
    "\n",
    "import patsy\n",
    "\n",
    "import matplotlib.pyplot as plt\n",
    "import seaborn as sns\n",
    "from statsmodels.tsa.stattools import adfuller\n",
    "from statsmodels.tsa.stattools import acf, pacf"
   ]
  },
  {
   "cell_type": "code",
   "execution_count": 2,
   "id": "dc9ea918",
   "metadata": {},
   "outputs": [
    {
     "data": {
      "text/html": [
       "<div>\n",
       "<style scoped>\n",
       "    .dataframe tbody tr th:only-of-type {\n",
       "        vertical-align: middle;\n",
       "    }\n",
       "\n",
       "    .dataframe tbody tr th {\n",
       "        vertical-align: top;\n",
       "    }\n",
       "\n",
       "    .dataframe thead th {\n",
       "        text-align: right;\n",
       "    }\n",
       "</style>\n",
       "<table border=\"1\" class=\"dataframe\">\n",
       "  <thead>\n",
       "    <tr style=\"text-align: right;\">\n",
       "      <th></th>\n",
       "      <th>Data</th>\n",
       "      <th>Sondagem Industrial - produção industrial - indústria de transformação -  estoques  - efetivo/planejado - índice - - - Confederação Nacional da Indústria - CNI12_INDTP12 -</th>\n",
       "    </tr>\n",
       "  </thead>\n",
       "  <tbody>\n",
       "    <tr>\n",
       "      <th>0</th>\n",
       "      <td>2010.01</td>\n",
       "      <td>48.2</td>\n",
       "    </tr>\n",
       "    <tr>\n",
       "      <th>1</th>\n",
       "      <td>2010.02</td>\n",
       "      <td>48.6</td>\n",
       "    </tr>\n",
       "    <tr>\n",
       "      <th>2</th>\n",
       "      <td>2010.03</td>\n",
       "      <td>48.3</td>\n",
       "    </tr>\n",
       "    <tr>\n",
       "      <th>3</th>\n",
       "      <td>2010.04</td>\n",
       "      <td>48.5</td>\n",
       "    </tr>\n",
       "    <tr>\n",
       "      <th>4</th>\n",
       "      <td>2010.05</td>\n",
       "      <td>49.1</td>\n",
       "    </tr>\n",
       "  </tbody>\n",
       "</table>\n",
       "</div>"
      ],
      "text/plain": [
       "      Data  \\\n",
       "0  2010.01   \n",
       "1  2010.02   \n",
       "2  2010.03   \n",
       "3  2010.04   \n",
       "4  2010.05   \n",
       "\n",
       "   Sondagem Industrial - produção industrial - indústria de transformação -  estoques  - efetivo/planejado - índice - - - Confederação Nacional da Indústria - CNI12_INDTP12 -   \n",
       "0                                               48.2                                                                                                                             \n",
       "1                                               48.6                                                                                                                             \n",
       "2                                               48.3                                                                                                                             \n",
       "3                                               48.5                                                                                                                             \n",
       "4                                               49.1                                                                                                                             "
      ]
     },
     "execution_count": 2,
     "metadata": {},
     "output_type": "execute_result"
    }
   ],
   "source": [
    "#  Abrindo o dataset\n",
    "df = pd.read_excel(r\"C:\\Users\\sabri\\ipeadata[09-11-2023-07-57].xls\")\n",
    "df.head()"
   ]
  },
  {
   "cell_type": "code",
   "execution_count": 3,
   "id": "7dc68196",
   "metadata": {},
   "outputs": [
    {
     "name": "stderr",
     "output_type": "stream",
     "text": [
      "C:\\Users\\sabri\\AppData\\Local\\Temp\\ipykernel_14264\\2987269046.py:4: FutureWarning: The pandas.datetime class is deprecated and will be removed from pandas in a future version. Import from datetime module instead.\n",
      "  dateparse = lambda dates: pd.datetime.strptime(dates, '%Y.%m') #  Função que converte os valores de data para a leitura pandas.\n"
     ]
    },
    {
     "data": {
      "text/html": [
       "<div>\n",
       "<style scoped>\n",
       "    .dataframe tbody tr th:only-of-type {\n",
       "        vertical-align: middle;\n",
       "    }\n",
       "\n",
       "    .dataframe tbody tr th {\n",
       "        vertical-align: top;\n",
       "    }\n",
       "\n",
       "    .dataframe thead th {\n",
       "        text-align: right;\n",
       "    }\n",
       "</style>\n",
       "<table border=\"1\" class=\"dataframe\">\n",
       "  <thead>\n",
       "    <tr style=\"text-align: right;\">\n",
       "      <th></th>\n",
       "      <th>Sondagem Industrial - produção industrial - indústria de transformação -  estoques  - efetivo/planejado - índice - - - Confederação Nacional da Indústria - CNI12_INDTP12 -</th>\n",
       "    </tr>\n",
       "    <tr>\n",
       "      <th>Data</th>\n",
       "      <th></th>\n",
       "    </tr>\n",
       "  </thead>\n",
       "  <tbody>\n",
       "    <tr>\n",
       "      <th>2010-01-01</th>\n",
       "      <td>48.2</td>\n",
       "    </tr>\n",
       "    <tr>\n",
       "      <th>2010-02-01</th>\n",
       "      <td>48.6</td>\n",
       "    </tr>\n",
       "    <tr>\n",
       "      <th>2010-03-01</th>\n",
       "      <td>48.3</td>\n",
       "    </tr>\n",
       "    <tr>\n",
       "      <th>2010-04-01</th>\n",
       "      <td>48.5</td>\n",
       "    </tr>\n",
       "    <tr>\n",
       "      <th>2010-05-01</th>\n",
       "      <td>49.1</td>\n",
       "    </tr>\n",
       "  </tbody>\n",
       "</table>\n",
       "</div>"
      ],
      "text/plain": [
       "            Sondagem Industrial - produção industrial - indústria de transformação -  estoques  - efetivo/planejado - índice - - - Confederação Nacional da Indústria - CNI12_INDTP12 - \n",
       "Data                                                                                                                                                                                    \n",
       "2010-01-01                                               48.2                                                                                                                           \n",
       "2010-02-01                                               48.6                                                                                                                           \n",
       "2010-03-01                                               48.3                                                                                                                           \n",
       "2010-04-01                                               48.5                                                                                                                           \n",
       "2010-05-01                                               49.1                                                                                                                           "
      ]
     },
     "execution_count": 3,
     "metadata": {},
     "output_type": "execute_result"
    }
   ],
   "source": [
    "#  O formato de data utilizado não é o formato lido pelo pandas automaticamente.\n",
    "#  Por isso são necessárias algumas adaptações para que 1 - a leitura ocorra corretamente e 2 - a data seja usada como índice\n",
    "\n",
    "dateparse = lambda dates: pd.datetime.strptime(dates, '%Y.%m') #  Função que converte os valores de data para a leitura pandas.\n",
    "df = pd.read_excel(r\"C:\\Users\\sabri\\ipeadata[09-11-2023-07-57].xls\", parse_dates=['Data'], index_col='Data',date_parser=dateparse) \n",
    "df.head() #  index_col = 'Data' -> séries temporais utilizando pandas têm os dados de data como índices"
   ]
  },
  {
   "cell_type": "code",
   "execution_count": 4,
   "id": "edc38f0e",
   "metadata": {},
   "outputs": [],
   "source": [
    "#  Renomeando a coluna para facilitar as demais etapas; ajustando os índices\n",
    "df.columns = ['indice_efetivo_planejado']\n",
    "df.sort_index(inplace=True)"
   ]
  },
  {
   "cell_type": "code",
   "execution_count": 5,
   "id": "d5c6dba2",
   "metadata": {},
   "outputs": [],
   "source": [
    "#  Defino a minha timeseries ts:\n",
    "ts = df['indice_efetivo_planejado']"
   ]
  },
  {
   "cell_type": "code",
   "execution_count": 6,
   "id": "1736174d",
   "metadata": {},
   "outputs": [],
   "source": [
    "#  Determinando média e variância móveis:\n",
    "#  Obs: por intuição, faz sentido imaginar que os valores mais recentes são mais relevantes para estimações futuras em quase\n",
    "#  todos os casos. \n",
    "rolmean = pd.Series(ts).rolling(window=12).mean()  #  média móvel no último ano \n",
    "rolstd = pd.Series(ts).rolling(window=12).std()  #  window é o último período que estou verificando"
   ]
  },
  {
   "cell_type": "code",
   "execution_count": 7,
   "id": "db3c5b85",
   "metadata": {},
   "outputs": [
    {
     "data": {
      "image/png": "[encoded data removed]",
      "text/plain": [
       "<Figure size 432x288 with 1 Axes>"
      ]
     },
     "metadata": {
      "needs_background": "light"
     },
     "output_type": "display_data"
    }
   ],
   "source": [
    "#  Plotando média móvel e variância móvel:\n",
    "orig = plt.plot(ts, color='blue',label='Original')\n",
    "mean = plt.plot(rolmean, color='red', label='Rolling Mean / Média Móvel')\n",
    "std = plt.plot(rolstd, color='black', label = 'Rolling Std / Variância Móvel')\n",
    "plt.legend(loc='best')\n",
    "plt.title('Rolling Mean & Standard Deviation')\n",
    "plt.show(block=False)"
   ]
  },
  {
   "cell_type": "code",
   "execution_count": 8,
   "id": "0f2dccde",
   "metadata": {},
   "outputs": [],
   "source": [
    "#  Definindo função para a realização do teste de estacionariedade de Dickey-Fuller\n",
    "#  Esse teste é o mais robusto para teste de estacionariedade\n",
    "#  H0 - a série tem raiz unitária (não estacionária)\n",
    "#  H1 - a série não tem raiz unitária (estacionária)\n",
    "def test_stationarity(timeseries):\n",
    "    dftest = adfuller(timeseries, autolag='AIC')\n",
    "    dfoutput = pd.Series(dftest[0:4], index=['Test Statistic','p-value','#Lags Used','Number of Observations Used'])\n",
    "    for key,value in dftest[4].items():\n",
    "        dfoutput['Critical Value (%s)'%key] = value\n",
    "    print(dfoutput)"
   ]
  },
  {
   "cell_type": "code",
   "execution_count": 9,
   "id": "44acdc81",
   "metadata": {},
   "outputs": [
    {
     "name": "stdout",
     "output_type": "stream",
     "text": [
      "Test Statistic                  -3.235073\n",
      "p-value                          0.018042\n",
      "#Lags Used                       0.000000\n",
      "Number of Observations Used    164.000000\n",
      "Critical Value (1%)             -3.470866\n",
      "Critical Value (5%)             -2.879330\n",
      "Critical Value (10%)            -2.576255\n",
      "dtype: float64\n"
     ]
    }
   ],
   "source": [
    "#  Teste de Estacionariedade da série temporal\n",
    "#  Se a estatística de teste for menor que o valor crítico, rejeita-se H0\n",
    "test_stationarity(ts)\n",
    "#  -3,235073 > -3,470866 logo, não rejeito H0\n",
    "#  Ou p-valor > 0,01 também não rejeito H0 para 99% de significância"
   ]
  },
  {
   "cell_type": "code",
   "execution_count": 10,
   "id": "ebb04d40",
   "metadata": {},
   "outputs": [],
   "source": [
    "#  Para obter a autocorrelação (ACF) e autocorrelação parcial (PACF) para a minha série temporal original\n",
    "lag_acf = acf(ts, nlags=40)  #  nlags = número de defasagens no tempo\n",
    "lag_pacf = pacf(ts, nlags=40, method='ols')  #  método ols: regressão de ts nos lags + cte"
   ]
  },
  {
   "cell_type": "code",
   "execution_count": 11,
   "id": "2dc90447",
   "metadata": {},
   "outputs": [
    {
     "data": {
      "image/png": "[encoded data removed]",
      "text/plain": [
       "<Figure size 432x288 with 2 Axes>"
      ]
     },
     "metadata": {
      "needs_background": "light"
     },
     "output_type": "display_data"
    }
   ],
   "source": [
    "#  Para plotar ACF e PACF\n",
    "# ACF: \n",
    "\n",
    "plt.subplot(121) \n",
    "plt.plot(lag_acf)\n",
    "plt.axhline(y=0,linestyle='--',color='gray')\n",
    "plt.axhline(y=-1.96/np.sqrt(len(ts)),linestyle='--',color='gray')\n",
    "plt.axhline(y=1.96/np.sqrt(len(ts)),linestyle='--',color='gray')\n",
    "plt.title('Função de Autocorrelação')\n",
    "\n",
    "#  PACF:\n",
    "\n",
    "plt.subplot(122)\n",
    "plt.plot(lag_pacf)\n",
    "plt.axhline(y=0,linestyle='--',color='gray')\n",
    "plt.axhline(y=-1.96/np.sqrt(len(ts)),linestyle='--',color='gray')\n",
    "plt.axhline(y=1.96/np.sqrt(len(ts)),linestyle='--',color='gray') \n",
    "plt.title('Função de Autocorrelação Parcial') \n",
    "plt.tight_layout()"
   ]
  }
 ],
 "metadata": {
  "kernelspec": {
   "display_name": "Python 3 (ipykernel)",
   "language": "python",
   "name": "python3"
  },
  "language_info": {
   "codemirror_mode": {
    "name": "ipython",
    "version": 3
   },
   "file_extension": ".py",
   "mimetype": "text/x-python",
   "name": "python",
   "nbconvert_exporter": "python",
   "pygments_lexer": "ipython3",
   "version": "3.9.12"
  }
 },
 "nbformat": 4,
 "nbformat_minor": 5
}
